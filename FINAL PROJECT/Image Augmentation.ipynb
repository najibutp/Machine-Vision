{
 "cells": [
  {
   "cell_type": "code",
   "execution_count": 1,
   "metadata": {},
   "outputs": [],
   "source": [
    "import cv2 as cv\n",
    "from imutils import paths\n",
    "import numpy as np\n",
    "from PIL import Image\n",
    "import os\n",
    "import os.path\n",
    "import glob\n",
    "from PIL import Image as im"
   ]
  },
  {
   "cell_type": "code",
   "execution_count": 2,
   "metadata": {},
   "outputs": [],
   "source": [
    "Extension=\".jpg\"\n",
    "i=0"
   ]
  },
  {
   "cell_type": "code",
   "execution_count": 3,
   "metadata": {},
   "outputs": [],
   "source": [
    "path = r'C:\\DATA SOURCE\\PPE\\train\\coverall' \n",
    "\n",
    "testpaths= sorted(list(paths.list_images(path)))\n",
    "for file in os.listdir(path): \n",
    "    f_img = path+\"/\"+file\n",
    "    a= cv.imread(f_img)\n",
    "    \n",
    "    # %%%%%%%%%%%%%%%%%%%%%\n",
    "    #conversion numpy array into rgb image to show\n",
    "    c = cv.cvtColor(a, cv.COLOR_RGB2RGBA)\n",
    "    h, w = c.shape[:2]\n",
    "    M = cv.getRotationMatrix2D((w/2.0,h/2.0),45,1)\n",
    "    rotated = cv.warpAffine(c,M,(w,h))\n",
    "    i= i+1\n",
    "    cv.imwrite(path + \"/Rotate-\" + str(i) + Extension, rotated)\n",
    "cv.imshow('Result', rotated)\n",
    "cv.waitKey(0)\n",
    "cv.destroyAllWindows()"
   ]
  },
  {
   "cell_type": "code",
   "execution_count": 4,
   "metadata": {},
   "outputs": [],
   "source": [
    "#flipping\n",
    "for file in os.listdir(path): \n",
    "    f_img = path+\"/\"+file\n",
    "    a= cv.imread(f_img)  \n",
    "    #conversion numpy array into rgb image to show\n",
    "    c = cv.cvtColor(a, cv.COLOR_RGB2RGBA)\n",
    "    image = cv.flip(c, 1)\n",
    "    i= i+1\n",
    "    cv.imwrite(path + \"/Flip-\" + str(i) + Extension, image)"
   ]
  },
  {
   "cell_type": "code",
   "execution_count": 5,
   "metadata": {},
   "outputs": [],
   "source": [
    "#Translation\n",
    "for file in os.listdir(path): \n",
    "    f_img = path+\"/\"+file\n",
    "    a= cv.imread(f_img)  \n",
    "    #conversion numpy array into rgb image to show\n",
    "    c = cv.cvtColor(a, cv.COLOR_RGB2RGBA)\n",
    "    h, w = c.shape[:2]\n",
    "    M = np.float32([[1, 0, w/4], [0, 1, 0]])\n",
    "    image = cv.warpAffine(c, M, (w, h))\n",
    "    i= i+1\n",
    "    cv.imwrite(path + \"/Translate-\" + str(i) + Extension, image)"
   ]
  },
  {
   "cell_type": "code",
   "execution_count": 6,
   "metadata": {},
   "outputs": [],
   "source": [
    "#Transformation\n",
    "for file in os.listdir(path): \n",
    "    f_img = path+\"/\"+file\n",
    "    a= cv.imread(f_img)  \n",
    "    #conversion numpy array into rgb image to show\n",
    "    c = cv.cvtColor(a, cv.COLOR_RGB2RGBA)\n",
    "    h, w = c.shape[:2]\n",
    "    pts1 = np.float32([[50, 50], [200, 50], [50, 200]])\n",
    "    pts2 = np.float32([[100, 10], [200, 50], [70, 150]])\n",
    "    M = cv.getAffineTransform(pts1, pts2)\n",
    "    image = cv.warpAffine(c, M, (w, h))\n",
    "    i= i+1\n",
    "    cv.imwrite(path + \"/Transform-\" + str(i) + Extension, image)"
   ]
  },
  {
   "cell_type": "code",
   "execution_count": null,
   "metadata": {},
   "outputs": [],
   "source": []
  }
 ],
 "metadata": {
  "kernelspec": {
   "display_name": "Python 3",
   "language": "python",
   "name": "python3"
  },
  "language_info": {
   "codemirror_mode": {
    "name": "ipython",
    "version": 3
   },
   "file_extension": ".py",
   "mimetype": "text/x-python",
   "name": "python",
   "nbconvert_exporter": "python",
   "pygments_lexer": "ipython3",
   "version": "3.8.5"
  }
 },
 "nbformat": 4,
 "nbformat_minor": 4
}
